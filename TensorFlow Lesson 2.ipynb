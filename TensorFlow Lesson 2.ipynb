{
 "cells": [
  {
   "cell_type": "code",
   "execution_count": 2,
   "metadata": {
    "collapsed": true,
    "deletable": true,
    "editable": true
   },
   "outputs": [],
   "source": [
    "import tensorflow as tf\n"
   ]
  },
  {
   "cell_type": "code",
   "execution_count": 28,
   "metadata": {
    "collapsed": false,
    "deletable": true,
    "editable": true
   },
   "outputs": [
    {
     "name": "stdout",
     "output_type": "stream",
     "text": [
      "7.2\n"
     ]
    }
   ],
   "source": [
    "with tf.Graph().as_default() as g:\n",
    "    inputt = tf.constant(3.6)\n",
    "    weight = tf.Variable(2.0)\n",
    "    with tf.Session() as sess:\n",
    "        sess.run(tf.global_variables_initializer())\n",
    "        output = tf.multiply(inputt, weight)\n",
    "        print(sess.run(output))"
   ]
  },
  {
   "cell_type": "code",
   "execution_count": 36,
   "metadata": {
    "collapsed": false,
    "deletable": true,
    "editable": true
   },
   "outputs": [],
   "source": [
    "with tf.Graph().as_default() as g:\n",
    "    with tf.Session() as sess:\n",
    "        graph_writer = tf.summary.FileWriter(\"6006\", sess.graph)"
   ]
  },
  {
   "cell_type": "code",
   "execution_count": 3,
   "metadata": {
    "collapsed": false,
    "deletable": true,
    "editable": true
   },
   "outputs": [
    {
     "name": "stdout",
     "output_type": "stream",
     "text": [
      "None\n",
      "2.576\n",
      "8.2432\n",
      "None\n",
      "2.85709\n",
      "9.14268\n",
      "None\n",
      "2.99426\n",
      "9.58163\n",
      "None\n",
      "3.0612\n",
      "9.79583\n",
      "None\n",
      "3.09386\n",
      "9.90037\n",
      "None\n",
      "3.10981\n",
      "9.95138\n",
      "None\n",
      "3.11759\n",
      "9.97627\n",
      "None\n",
      "3.12138\n",
      "9.98842\n",
      "None\n",
      "3.12323\n",
      "9.99435\n",
      "None\n",
      "3.12414\n",
      "9.99724\n",
      "None\n",
      "3.12458\n",
      "9.99865\n",
      "None\n",
      "3.12479\n",
      "9.99934\n",
      "None\n",
      "3.1249\n",
      "9.99968\n",
      "None\n",
      "3.12495\n",
      "9.99984\n",
      "None\n",
      "3.12498\n",
      "9.99992\n",
      "None\n",
      "3.12499\n",
      "9.99996\n",
      "None\n",
      "3.12499\n",
      "9.99998\n",
      "None\n",
      "3.125\n",
      "9.99999\n",
      "None\n",
      "3.125\n",
      "10.0\n",
      "None\n",
      "3.125\n",
      "10.0\n"
     ]
    }
   ],
   "source": [
    "with tf.Graph().as_default() as g:\n",
    "    with tf.Session() as sess:\n",
    "        output_ = tf.constant(10.0)\n",
    "        inputt = tf.constant(3.2)\n",
    "        weight = tf.Variable(2.0)\n",
    "        output = tf.multiply(inputt, weight)\n",
    "        loss = tf.square(tf.subtract(output_, output))\n",
    "        sess.run(tf.global_variables_initializer())\n",
    "        optimizer = tf.train.GradientDescentOptimizer(0.025)\n",
    "        train_step = optimizer.minimize(loss, var_list = None)\n",
    "        graph_writer = tf.summary.FileWriter(\"dir\", sess.graph)\n",
    "        for i in range(20):\n",
    "            print(sess.run(train_step))\n",
    "            print(sess.run(weight))\n",
    "            print(sess.run(output))"
   ]
  },
  {
   "cell_type": "code",
   "execution_count": null,
   "metadata": {
    "collapsed": true,
    "deletable": true,
    "editable": true
   },
   "outputs": [],
   "source": []
  }
 ],
 "metadata": {
  "kernelspec": {
   "display_name": "Python 3",
   "language": "python",
   "name": "python3"
  },
  "language_info": {
   "codemirror_mode": {
    "name": "ipython",
    "version": 3
   },
   "file_extension": ".py",
   "mimetype": "text/x-python",
   "name": "python",
   "nbconvert_exporter": "python",
   "pygments_lexer": "ipython3",
   "version": "3.6.0"
  }
 },
 "nbformat": 4,
 "nbformat_minor": 2
}
