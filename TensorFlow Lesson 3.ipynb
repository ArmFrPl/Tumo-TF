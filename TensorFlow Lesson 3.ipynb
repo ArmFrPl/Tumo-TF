{
 "cells": [
  {
   "cell_type": "code",
   "execution_count": 6,
   "metadata": {
    "collapsed": false,
    "deletable": true,
    "editable": true
   },
   "outputs": [
    {
     "name": "stdout",
     "output_type": "stream",
     "text": [
      "[[ 0.75559676]\n",
      " [ 0.75486177]\n",
      " [ 0.75496078]\n",
      " [ 0.75512964]\n",
      " [ 0.75527704]\n",
      " [ 0.75478989]\n",
      " [ 0.75542432]\n",
      " [ 0.7549336 ]\n",
      " [ 0.7547394 ]\n",
      " [ 0.75525373]]\n"
     ]
    }
   ],
   "source": [
    "import tensorflow as tf\n",
    "with tf.Graph().as_default() as g:\n",
    "    with tf.Session() as sess:\n",
    "        input_data = [[10, 7], [5, 4], [8, 3], [2, 8], [4, 8], [9, 1], [6, 8], [1, 7], [5, 3], [7, 6]]\n",
    "        output_data = [[97], [71], [74], [78], [90], [68], [95], [65], [70], [82]]\n",
    "        \n",
    "        input_plch = tf.placeholder(tf.float32)\n",
    "        output_plch = tf.placeholder(tf.float32)\n",
    "        \n",
    "        feed_dict = {input_plch:input_data, output_plch:output_data}\n",
    "        \n",
    "        max_input = tf.reduce_max(input_plch, 0)\n",
    "        normalized_input = tf.divide(input_plch, max_input)\n",
    "        \n",
    "        max_output = tf.reduce_max(output_plch, 0)\n",
    "        normalized_output = tf.divide(output_plch, max_output)\n",
    "\n",
    "        num_neurons_1 = 2\n",
    "        num_neurons_2 = 3\n",
    "        num_neurons_3 = 1\n",
    "        \n",
    "        weights_1 = tf.Variable(tf.zeros([num_neurons_1, num_neurons_2]))\n",
    "        bias_1 = tf.Variable(tf.zeros(num_neurons_2))\n",
    "        weighted_sums_1 = tf.matmul(normalized_input, weights_1) + bias_1\n",
    "        activation_1 = tf.sigmoid(weighted_sums_1)\n",
    "        \n",
    "        weights_2 = tf.Variable(tf.zeros([num_neurons_2, num_neurons_3]))\n",
    "        bias_2= tf.Variable(tf.zeros(num_neurons_3))\n",
    "        weighted_sums_2 = tf.matmul(activation_1, weights_2) + bias_2\n",
    "        activation_2 = tf.sigmoid(weighted_sums_2)\n",
    "        \n",
    "        loss = tf.reduce_sum((activation_2 - normalized_output)**2)/10\n",
    "        optimizer = tf.train.GradientDescentOptimizer(0.01)\n",
    "        train_step = optimizer.minimize(loss)\n",
    "        sess.run(tf.global_variables_initializer())\n",
    "        graph_writer = tf.summary.FileWriter(\"bla\", sess.graph)\n",
    "        for i in range(1000):\n",
    "            sess.run(train_step, feed_dict = feed_dict)\n",
    "    \n",
    "        print(sess.run(activation_2, feed_dict = feed_dict))"
   ]
  },
  {
   "cell_type": "code",
   "execution_count": null,
   "metadata": {
    "collapsed": false,
    "deletable": true,
    "editable": true
   },
   "outputs": [],
   "source": []
  }
 ],
 "metadata": {
  "kernelspec": {
   "display_name": "Python 3",
   "language": "python",
   "name": "python3"
  },
  "language_info": {
   "codemirror_mode": {
    "name": "ipython",
    "version": 3
   },
   "file_extension": ".py",
   "mimetype": "text/x-python",
   "name": "python",
   "nbconvert_exporter": "python",
   "pygments_lexer": "ipython3",
   "version": "3.6.0"
  }
 },
 "nbformat": 4,
 "nbformat_minor": 2
}
