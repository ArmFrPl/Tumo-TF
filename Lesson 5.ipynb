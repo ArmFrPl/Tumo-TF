{
 "cells": [
  {
   "cell_type": "code",
   "execution_count": 2,
   "metadata": {
    "collapsed": false
   },
   "outputs": [
    {
     "name": "stdout",
     "output_type": "stream",
     "text": [
      "--2017-03-25 15:43:00--  https://raw.githubusercontent.com/tumregels/tumo-tf/master/downloader.ipynb\n",
      "Resolving raw.githubusercontent.com (raw.githubusercontent.com)... 151.101.12.133\n",
      "Connecting to raw.githubusercontent.com (raw.githubusercontent.com)|151.101.12.133|:443... connected.\n",
      "HTTP request sent, awaiting response... 200 OK\n",
      "Length: 4476 (4.4K) [text/plain]\n",
      "Saving to: ‘downloader.ipynb’\n",
      "\n",
      "downloader.ipynb    100%[===================>]   4.37K  --.-KB/s    in 0s      \n",
      "\n",
      "2017-03-25 15:43:00 (56.9 MB/s) - ‘downloader.ipynb’ saved [4476/4476]\n",
      "\n"
     ]
    }
   ],
   "source": [
    "!wget https://raw.githubusercontent.com/tumregels/tumo-tf/master/downloader.ipynb\n"
   ]
  },
  {
   "cell_type": "code",
   "execution_count": 3,
   "metadata": {
    "collapsed": false
   },
   "outputs": [
    {
     "name": "stdout",
     "output_type": "stream",
     "text": [
      "Reinitialized existing Git repository in /home/1311260003/.git/\r\n"
     ]
    }
   ],
   "source": [
    "!git init"
   ]
  },
  {
   "cell_type": "code",
   "execution_count": 5,
   "metadata": {
    "collapsed": false
   },
   "outputs": [
    {
     "name": "stdout",
     "output_type": "stream",
     "text": [
      "total 100\r\n",
      "-rw-r--r-- 1 1311260003 1311260003    87 Mar 23 16:52 data.txt\r\n",
      "-rw-r--r-- 1 1311260003 1311260003  5423 Mar 25 15:49 downloader.ipynb\r\n",
      "-rw-r--r-- 1 1311260003 1311260003 13008 Mar 25 16:00 git-github.ipynb\r\n",
      "-rw-r--r-- 1 1311260003 1311260003 31581 Mar 22 17:11 Lesson 1,2.ipynb\r\n",
      "-rw-r--r-- 1 1311260003 1311260003    35 Mar 21 16:04 lesson1.py\r\n",
      "-rw-r--r-- 1 1311260003 1311260003 16346 Mar 23 17:31 Lesson 3.ipynb\r\n",
      "-rw-r--r-- 1 1311260003 1311260003 11166 Mar 24 17:16 Lesson 4.ipynb\r\n",
      "-rw-r--r-- 1 1311260003 1311260003  1906 Mar 25 16:01 Lesson 5.ipynb\r\n",
      "-rw-r--r-- 1 1311260003 1311260003    25 Mar 23 17:30 test.txt\r\n"
     ]
    }
   ],
   "source": [
    "ls -l"
   ]
  },
  {
   "cell_type": "code",
   "execution_count": null,
   "metadata": {
    "collapsed": true
   },
   "outputs": [],
   "source": []
  }
 ],
 "metadata": {
  "kernelspec": {
   "display_name": "Python 3",
   "language": "python",
   "name": "python3"
  },
  "language_info": {
   "codemirror_mode": {
    "name": "ipython",
    "version": 3
   },
   "file_extension": ".py",
   "mimetype": "text/x-python",
   "name": "python",
   "nbconvert_exporter": "python",
   "pygments_lexer": "ipython3",
   "version": "3.6.0"
  }
 },
 "nbformat": 4,
 "nbformat_minor": 2
}
