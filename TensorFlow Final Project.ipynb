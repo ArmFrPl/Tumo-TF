{
 "cells": [
  {
   "cell_type": "code",
   "execution_count": 2,
   "metadata": {
    "collapsed": false,
    "deletable": true,
    "editable": true
   },
   "outputs": [
    {
     "name": "stdout",
     "output_type": "stream",
     "text": [
      "Extracting MNIST_data/train-images-idx3-ubyte.gz\n",
      "Extracting MNIST_data/train-labels-idx1-ubyte.gz\n",
      "Extracting MNIST_data/t10k-images-idx3-ubyte.gz\n",
      "Extracting MNIST_data/t10k-labels-idx1-ubyte.gz\n",
      "0.919\n"
     ]
    }
   ],
   "source": [
    "import tensorflow as tf\n",
    "from tensorflow.examples.tutorials.mnist import input_data\n",
    "\n",
    "with tf.Graph().as_default() as g:\n",
    "    with tf.Session() as sess:\n",
    "\n",
    "        mnist = input_data.read_data_sets(\"MNIST_data/\", one_hot = True)\n",
    "\n",
    "        plch_1 = tf.placeholder(tf.float32, [None, 784])\n",
    "        plch_2 = tf.placeholder(tf.float32, [None, 10])\n",
    "\n",
    "        mnist_train_inp = mnist.train\n",
    "        \n",
    "        \n",
    "        weights = tf.Variable(tf.zeros([784, 10]))\n",
    "        bias = tf.Variable(tf.zeros([10]))\n",
    "\n",
    "        loss = tf.nn.softmax(tf.matmul(plch_1, weights) + bias)\n",
    "        \n",
    "        cross_entropy = tf.reduce_mean(-tf.reduce_sum(plch_2 * tf.log(loss), reduction_indices=[1]))\n",
    "        train_step = tf.train.GradientDescentOptimizer(0.5).minimize(cross_entropy)\n",
    "        \n",
    "        sess.run(tf.global_variables_initializer())\n",
    "        for i in range(1000):\n",
    "            batch_xs, batch_ys = mnist.train.next_batch(100)\n",
    "            sess.run(train_step, feed_dict={plch_1: batch_xs, plch_2: batch_ys})\n",
    "        \n",
    "        correct_prediction = tf.equal(tf.argmax(loss,1), tf.argmax(plch_2,1))\n",
    "        accuracy = tf.reduce_mean(tf.cast(correct_prediction, tf.float32))\n",
    "        graph_writer = tf.summary.FileWriter(\"blt\", sess.graph)\n",
    "        print(sess.run(accuracy, feed_dict={plch_1: mnist.test.images, plch_2: mnist.test.labels}))\n",
    "#         print(sess.run(activation))"
   ]
  },
  {
   "cell_type": "code",
   "execution_count": null,
   "metadata": {
    "collapsed": true,
    "deletable": true,
    "editable": true
   },
   "outputs": [],
   "source": []
  }
 ],
 "metadata": {
  "kernelspec": {
   "display_name": "Python 3",
   "language": "python",
   "name": "python3"
  },
  "language_info": {
   "codemirror_mode": {
    "name": "ipython",
    "version": 3
   },
   "file_extension": ".py",
   "mimetype": "text/x-python",
   "name": "python",
   "nbconvert_exporter": "python",
   "pygments_lexer": "ipython3",
   "version": "3.6.0"
  }
 },
 "nbformat": 4,
 "nbformat_minor": 2
}
